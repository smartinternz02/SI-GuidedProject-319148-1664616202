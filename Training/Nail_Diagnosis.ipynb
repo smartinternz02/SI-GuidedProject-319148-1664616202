{
  "nbformat": 4,
  "nbformat_minor": 0,
  "metadata": {
    "colab": {
      "provenance": [],
      "collapsed_sections": []
    },
    "kernelspec": {
      "name": "python3",
      "display_name": "Python 3"
    },
    "language_info": {
      "name": "python"
    },
    "accelerator": "GPU"
  },
  "cells": [
    {
      "cell_type": "code",
      "execution_count": null,
      "metadata": {
        "id": "IiaC7oAgeRfZ"
      },
      "outputs": [],
      "source": []
    },
    {
      "cell_type": "code",
      "source": [
        "from google.colab import drive\n",
        "drive.mount('/content/drive')"
      ],
      "metadata": {
        "colab": {
          "base_uri": "https://localhost:8080/"
        },
        "id": "xbhWmIvaea8x",
        "outputId": "3011730f-d00c-405d-e4bf-4619b357de52"
      },
      "execution_count": 1,
      "outputs": [
        {
          "output_type": "stream",
          "name": "stdout",
          "text": [
            "Drive already mounted at /content/drive; to attempt to forcibly remount, call drive.mount(\"/content/drive\", force_remount=True).\n"
          ]
        }
      ]
    },
    {
      "cell_type": "code",
      "source": [
        "!pip install -q keras"
      ],
      "metadata": {
        "id": "2OZW5Vuxewnh"
      },
      "execution_count": 2,
      "outputs": []
    },
    {
      "cell_type": "markdown",
      "source": [
        "**IMPORTING THE LIBRARIES**"
      ],
      "metadata": {
        "id": "vZC6k1q3NsEv"
      }
    },
    {
      "cell_type": "code",
      "source": [
        "import keras\n"
      ],
      "metadata": {
        "id": "q3DcqUKufLOM"
      },
      "execution_count": 3,
      "outputs": []
    },
    {
      "cell_type": "code",
      "source": [
        "import tensorflow"
      ],
      "metadata": {
        "id": "ihBykVbMfMBV"
      },
      "execution_count": 4,
      "outputs": []
    },
    {
      "cell_type": "code",
      "source": [
        "from tensorflow.keras.layers import Dense, Flatten, Input\n",
        "from tensorflow.keras.models import Model\n",
        "from tensorflow.keras.preprocessing import image\n",
        "from tensorflow.keras.preprocessing.image import ImageDataGenerator, load_img\n",
        "from tensorflow.keras.applications.vgg16 import VGG16, preprocess_input\n",
        "from glob import glob\n",
        "import numpy as np\n",
        "import matplotlib.pyplot as plt\n",
        "\n"
      ],
      "metadata": {
        "id": "ww8GtT7bfVLK"
      },
      "execution_count": 5,
      "outputs": []
    },
    {
      "cell_type": "code",
      "source": [
        "imageSize = [224,224]"
      ],
      "metadata": {
        "id": "-UavJwuFPo5d"
      },
      "execution_count": 6,
      "outputs": []
    },
    {
      "cell_type": "code",
      "source": [
        "train_path ='/content/drive/MyDrive/Data/Test/test-20221004T084138Z-001/test'\n",
        "test_path ='/content/drive/MyDrive/Data/Train/train-20221004T084544Z-001/train'"
      ],
      "metadata": {
        "id": "aOydTkhPP9J7"
      },
      "execution_count": 7,
      "outputs": []
    },
    {
      "cell_type": "markdown",
      "source": [
        "**LOADING THE MODEL**"
      ],
      "metadata": {
        "id": "dRlrj86lN5dQ"
      }
    },
    {
      "cell_type": "code",
      "source": [
        "vgg = VGG16(input_shape=imageSize + [3], weights='imagenet',include_top=False)"
      ],
      "metadata": {
        "id": "cxVVbV3AOmXO"
      },
      "execution_count": 9,
      "outputs": []
    },
    {
      "cell_type": "markdown",
      "source": [
        "**ADDING FLATTEN LAYERS**"
      ],
      "metadata": {
        "id": "VLL72JO1OE_d"
      }
    },
    {
      "cell_type": "code",
      "source": [
        "for layer in vgg.layers:\n",
        "  layer.trainable = False"
      ],
      "metadata": {
        "id": "sVWcpaRRQ8-u"
      },
      "execution_count": 10,
      "outputs": []
    },
    {
      "cell_type": "code",
      "source": [
        "x = Flatten()(vgg.output)"
      ],
      "metadata": {
        "id": "EWAfWmnXRTTF"
      },
      "execution_count": 11,
      "outputs": []
    },
    {
      "cell_type": "markdown",
      "source": [
        "**ADDING OUTPUT LAYER**"
      ],
      "metadata": {
        "id": "SsH41YIfOPvp"
      }
    },
    {
      "cell_type": "code",
      "source": [
        "prediction = Dense(17, activation='softmax')(x)"
      ],
      "metadata": {
        "id": "5r8MjgQURcRg"
      },
      "execution_count": 12,
      "outputs": []
    },
    {
      "cell_type": "markdown",
      "source": [
        "**CREATING A MODEL OBJECT**"
      ],
      "metadata": {
        "id": "jhumVUbrOZDN"
      }
    },
    {
      "cell_type": "code",
      "source": [
        "model = Model(inputs=vgg.input, outputs=prediction)"
      ],
      "metadata": {
        "id": "fD-AO_9mRrEA"
      },
      "execution_count": 13,
      "outputs": []
    },
    {
      "cell_type": "code",
      "source": [
        "model.summary()"
      ],
      "metadata": {
        "colab": {
          "base_uri": "https://localhost:8080/"
        },
        "id": "jg9txlewS0AJ",
        "outputId": "daa50f14-10b8-44f7-ff5a-0fd4feee01d7"
      },
      "execution_count": 14,
      "outputs": [
        {
          "output_type": "stream",
          "name": "stdout",
          "text": [
            "Model: \"model\"\n",
            "_________________________________________________________________\n",
            " Layer (type)                Output Shape              Param #   \n",
            "=================================================================\n",
            " input_2 (InputLayer)        [(None, 224, 224, 3)]     0         \n",
            "                                                                 \n",
            " block1_conv1 (Conv2D)       (None, 224, 224, 64)      1792      \n",
            "                                                                 \n",
            " block1_conv2 (Conv2D)       (None, 224, 224, 64)      36928     \n",
            "                                                                 \n",
            " block1_pool (MaxPooling2D)  (None, 112, 112, 64)      0         \n",
            "                                                                 \n",
            " block2_conv1 (Conv2D)       (None, 112, 112, 128)     73856     \n",
            "                                                                 \n",
            " block2_conv2 (Conv2D)       (None, 112, 112, 128)     147584    \n",
            "                                                                 \n",
            " block2_pool (MaxPooling2D)  (None, 56, 56, 128)       0         \n",
            "                                                                 \n",
            " block3_conv1 (Conv2D)       (None, 56, 56, 256)       295168    \n",
            "                                                                 \n",
            " block3_conv2 (Conv2D)       (None, 56, 56, 256)       590080    \n",
            "                                                                 \n",
            " block3_conv3 (Conv2D)       (None, 56, 56, 256)       590080    \n",
            "                                                                 \n",
            " block3_pool (MaxPooling2D)  (None, 28, 28, 256)       0         \n",
            "                                                                 \n",
            " block4_conv1 (Conv2D)       (None, 28, 28, 512)       1180160   \n",
            "                                                                 \n",
            " block4_conv2 (Conv2D)       (None, 28, 28, 512)       2359808   \n",
            "                                                                 \n",
            " block4_conv3 (Conv2D)       (None, 28, 28, 512)       2359808   \n",
            "                                                                 \n",
            " block4_pool (MaxPooling2D)  (None, 14, 14, 512)       0         \n",
            "                                                                 \n",
            " block5_conv1 (Conv2D)       (None, 14, 14, 512)       2359808   \n",
            "                                                                 \n",
            " block5_conv2 (Conv2D)       (None, 14, 14, 512)       2359808   \n",
            "                                                                 \n",
            " block5_conv3 (Conv2D)       (None, 14, 14, 512)       2359808   \n",
            "                                                                 \n",
            " block5_pool (MaxPooling2D)  (None, 7, 7, 512)         0         \n",
            "                                                                 \n",
            " flatten (Flatten)           (None, 25088)             0         \n",
            "                                                                 \n",
            " dense (Dense)               (None, 17)                426513    \n",
            "                                                                 \n",
            "=================================================================\n",
            "Total params: 15,141,201\n",
            "Trainable params: 426,513\n",
            "Non-trainable params: 14,714,688\n",
            "_________________________________________________________________\n"
          ]
        }
      ]
    },
    {
      "cell_type": "markdown",
      "source": [
        "**CONFIGURING THE LEARNING PROCESS**"
      ],
      "metadata": {
        "id": "1ILcjddAOlHc"
      }
    },
    {
      "cell_type": "code",
      "source": [
        "model.compile(\n",
        "    loss='categorical_crossentropy',\n",
        "    optimizer='adam',\n",
        "    metrics=['accuracy'], run_eagerly=True\n",
        ")"
      ],
      "metadata": {
        "id": "DEtNeN9VS4rT"
      },
      "execution_count": 16,
      "outputs": []
    },
    {
      "cell_type": "markdown",
      "source": [
        "**IMPORT IMAGEDATAGENERATOR**"
      ],
      "metadata": {
        "id": "z8vkewW2O1pX"
      }
    },
    {
      "cell_type": "code",
      "source": [
        "from tensorflow.keras.preprocessing.image import ImageDataGenerator"
      ],
      "metadata": {
        "id": "INVV9KPXVWY7"
      },
      "execution_count": 17,
      "outputs": []
    },
    {
      "cell_type": "markdown",
      "source": [
        "**CONFIGURE IMAGEDATAGENERATOR CLASS**"
      ],
      "metadata": {
        "id": "eoX9HTg3PCs2"
      }
    },
    {
      "cell_type": "code",
      "source": [
        "train_datagen = ImageDataGenerator(rescale = 1./255,\n",
        "                                   shear_range = 0.2,\n",
        "                                   zoom_range = 0.2,\n",
        "                                   horizontal_flip = True)\n",
        "test_datagen = ImageDataGenerator(rescale = 1./255)"
      ],
      "metadata": {
        "id": "xtGQEZKbVoT7"
      },
      "execution_count": 18,
      "outputs": []
    },
    {
      "cell_type": "markdown",
      "source": [
        "**APPLY IMAGEDATAGENERATOR**"
      ],
      "metadata": {
        "id": "R1pjHO4nPPlp"
      }
    },
    {
      "cell_type": "code",
      "source": [
        "training_set = test_datagen.flow_from_directory('/content/drive/MyDrive/Data/Train/train-20221004T084544Z-001/train',\n",
        "                                                target_size = (224, 224),\n",
        "                                                batch_size = 32,\n",
        "                                                class_mode = 'categorical')\n",
        "test_set = test_datagen.flow_from_directory('/content/drive/MyDrive/Data/Test/test-20221004T084138Z-001/test',\n",
        "                                             target_size = (224, 224),\n",
        "                                            batch_size =32,\n",
        "                                            class_mode = 'categorical')"
      ],
      "metadata": {
        "colab": {
          "base_uri": "https://localhost:8080/"
        },
        "id": "In2KE0QBYPYQ",
        "outputId": "6e13a1de-96e4-4e96-8505-72da5c6898e0"
      },
      "execution_count": 19,
      "outputs": [
        {
          "output_type": "stream",
          "name": "stdout",
          "text": [
            "Found 655 images belonging to 17 classes.\n",
            "Found 183 images belonging to 17 classes.\n"
          ]
        }
      ]
    },
    {
      "cell_type": "markdown",
      "source": [
        "**TRAIN THE MODEL**"
      ],
      "metadata": {
        "id": "tB-zyClfPWmx"
      }
    },
    {
      "cell_type": "code",
      "source": [
        "import sys\n"
      ],
      "metadata": {
        "id": "vdmVeP7paCDg"
      },
      "execution_count": 20,
      "outputs": []
    },
    {
      "cell_type": "code",
      "source": [
        "\n",
        "r = model.fit_generator(\n",
        "    training_set,\n",
        "    validation_data=test_set,\n",
        "    epochs=100,\n",
        "    steps_per_epoch=len(training_set)//3,\n",
        "    validation_steps=len(test_set)//3)\n"
      ],
      "metadata": {
        "colab": {
          "base_uri": "https://localhost:8080/"
        },
        "id": "T-s9yyQVgJ_c",
        "outputId": "e4eb0ea7-8187-4c65-e40d-d998f89d7bac"
      },
      "execution_count": 21,
      "outputs": [
        {
          "output_type": "stream",
          "name": "stderr",
          "text": [
            "/usr/local/lib/python3.7/dist-packages/ipykernel_launcher.py:6: UserWarning: `Model.fit_generator` is deprecated and will be removed in a future version. Please use `Model.fit`, which supports generators.\n",
            "  \n"
          ]
        },
        {
          "output_type": "stream",
          "name": "stdout",
          "text": [
            "Epoch 1/100\n",
            "7/7 [==============================] - 131s 17s/step - loss: 4.0963 - accuracy: 0.0966 - val_loss: 3.3283 - val_accuracy: 0.0781\n",
            "Epoch 2/100\n",
            "7/7 [==============================] - 65s 10s/step - loss: 3.2662 - accuracy: 0.1652 - val_loss: 2.8506 - val_accuracy: 0.2656\n",
            "Epoch 3/100\n",
            "7/7 [==============================] - 34s 5s/step - loss: 2.6141 - accuracy: 0.2589 - val_loss: 2.5207 - val_accuracy: 0.2812\n",
            "Epoch 4/100\n",
            "7/7 [==============================] - 24s 3s/step - loss: 2.3623 - accuracy: 0.2902 - val_loss: 2.0093 - val_accuracy: 0.4219\n",
            "Epoch 5/100\n",
            "7/7 [==============================] - 12s 2s/step - loss: 1.7984 - accuracy: 0.4866 - val_loss: 1.8098 - val_accuracy: 0.3906\n",
            "Epoch 6/100\n",
            "7/7 [==============================] - 10s 1s/step - loss: 1.6317 - accuracy: 0.5402 - val_loss: 1.3990 - val_accuracy: 0.6406\n",
            "Epoch 7/100\n",
            "7/7 [==============================] - 6s 899ms/step - loss: 1.5545 - accuracy: 0.5749 - val_loss: 1.6147 - val_accuracy: 0.5469\n",
            "Epoch 8/100\n",
            "7/7 [==============================] - 7s 863ms/step - loss: 1.4801 - accuracy: 0.5580 - val_loss: 1.3771 - val_accuracy: 0.6250\n",
            "Epoch 9/100\n",
            "7/7 [==============================] - 5s 745ms/step - loss: 1.2671 - accuracy: 0.6425 - val_loss: 1.3984 - val_accuracy: 0.4375\n",
            "Epoch 10/100\n",
            "7/7 [==============================] - 5s 765ms/step - loss: 1.2138 - accuracy: 0.6667 - val_loss: 1.2905 - val_accuracy: 0.5625\n",
            "Epoch 11/100\n",
            "7/7 [==============================] - 5s 656ms/step - loss: 1.1473 - accuracy: 0.7391 - val_loss: 0.8643 - val_accuracy: 0.8125\n",
            "Epoch 12/100\n",
            "7/7 [==============================] - 5s 689ms/step - loss: 1.0029 - accuracy: 0.7585 - val_loss: 1.0071 - val_accuracy: 0.7031\n",
            "Epoch 13/100\n",
            "7/7 [==============================] - 5s 724ms/step - loss: 0.9890 - accuracy: 0.7098 - val_loss: 0.8290 - val_accuracy: 0.7969\n",
            "Epoch 14/100\n",
            "7/7 [==============================] - 5s 699ms/step - loss: 0.8421 - accuracy: 0.8036 - val_loss: 0.7536 - val_accuracy: 0.7812\n",
            "Epoch 15/100\n",
            "7/7 [==============================] - 5s 717ms/step - loss: 0.8259 - accuracy: 0.8125 - val_loss: 0.8959 - val_accuracy: 0.7812\n",
            "Epoch 16/100\n",
            "7/7 [==============================] - 5s 714ms/step - loss: 0.7345 - accuracy: 0.7991 - val_loss: 0.9503 - val_accuracy: 0.7500\n",
            "Epoch 17/100\n",
            "7/7 [==============================] - 5s 714ms/step - loss: 0.7307 - accuracy: 0.8750 - val_loss: 0.6654 - val_accuracy: 0.8750\n",
            "Epoch 18/100\n",
            "7/7 [==============================] - 5s 638ms/step - loss: 0.6876 - accuracy: 0.8454 - val_loss: 0.7004 - val_accuracy: 0.8281\n",
            "Epoch 19/100\n",
            "7/7 [==============================] - 5s 712ms/step - loss: 0.6514 - accuracy: 0.8482 - val_loss: 0.6232 - val_accuracy: 0.9062\n",
            "Epoch 20/100\n",
            "7/7 [==============================] - 5s 711ms/step - loss: 0.6314 - accuracy: 0.8839 - val_loss: 0.5445 - val_accuracy: 0.9375\n",
            "Epoch 21/100\n",
            "7/7 [==============================] - 5s 707ms/step - loss: 0.6582 - accuracy: 0.8309 - val_loss: 0.4610 - val_accuracy: 0.9219\n",
            "Epoch 22/100\n",
            "7/7 [==============================] - 5s 687ms/step - loss: 0.5854 - accuracy: 0.9018 - val_loss: 0.5175 - val_accuracy: 0.9219\n",
            "Epoch 23/100\n",
            "7/7 [==============================] - 5s 711ms/step - loss: 0.5375 - accuracy: 0.8929 - val_loss: 0.4979 - val_accuracy: 0.8750\n",
            "Epoch 24/100\n",
            "7/7 [==============================] - 5s 712ms/step - loss: 0.4383 - accuracy: 0.9330 - val_loss: 0.4882 - val_accuracy: 0.9375\n",
            "Epoch 25/100\n",
            "7/7 [==============================] - 5s 663ms/step - loss: 0.4136 - accuracy: 0.9420 - val_loss: 0.4564 - val_accuracy: 0.9375\n",
            "Epoch 26/100\n",
            "7/7 [==============================] - 5s 730ms/step - loss: 0.4042 - accuracy: 0.9509 - val_loss: 0.3693 - val_accuracy: 0.9844\n",
            "Epoch 27/100\n",
            "7/7 [==============================] - 5s 723ms/step - loss: 0.3563 - accuracy: 0.9554 - val_loss: 0.2585 - val_accuracy: 1.0000\n",
            "Epoch 28/100\n",
            "7/7 [==============================] - 5s 638ms/step - loss: 0.3123 - accuracy: 0.9662 - val_loss: 0.4282 - val_accuracy: 0.9844\n",
            "Epoch 29/100\n",
            "7/7 [==============================] - 5s 692ms/step - loss: 0.3407 - accuracy: 0.9688 - val_loss: 0.3270 - val_accuracy: 0.9688\n",
            "Epoch 30/100\n",
            "7/7 [==============================] - 5s 692ms/step - loss: 0.3242 - accuracy: 0.9732 - val_loss: 0.3369 - val_accuracy: 0.9844\n",
            "Epoch 31/100\n",
            "7/7 [==============================] - 5s 718ms/step - loss: 0.2731 - accuracy: 0.9866 - val_loss: 0.3507 - val_accuracy: 0.9531\n",
            "Epoch 32/100\n",
            "7/7 [==============================] - 5s 719ms/step - loss: 0.3009 - accuracy: 0.9420 - val_loss: 0.3612 - val_accuracy: 0.9688\n",
            "Epoch 33/100\n",
            "7/7 [==============================] - 5s 726ms/step - loss: 0.2809 - accuracy: 0.9777 - val_loss: 0.2970 - val_accuracy: 0.9844\n",
            "Epoch 34/100\n",
            "7/7 [==============================] - 5s 673ms/step - loss: 0.3361 - accuracy: 0.9565 - val_loss: 0.2254 - val_accuracy: 1.0000\n",
            "Epoch 35/100\n",
            "7/7 [==============================] - 5s 663ms/step - loss: 0.2774 - accuracy: 0.9710 - val_loss: 0.2978 - val_accuracy: 0.9688\n",
            "Epoch 36/100\n",
            "7/7 [==============================] - 5s 689ms/step - loss: 0.2628 - accuracy: 0.9643 - val_loss: 0.2625 - val_accuracy: 0.9688\n",
            "Epoch 37/100\n",
            "7/7 [==============================] - 5s 692ms/step - loss: 0.2598 - accuracy: 0.9821 - val_loss: 0.2472 - val_accuracy: 0.9844\n",
            "Epoch 38/100\n",
            "7/7 [==============================] - 5s 689ms/step - loss: 0.2037 - accuracy: 0.9777 - val_loss: 0.2640 - val_accuracy: 0.9844\n",
            "Epoch 39/100\n",
            "7/7 [==============================] - 5s 712ms/step - loss: 0.2248 - accuracy: 0.9866 - val_loss: 0.2628 - val_accuracy: 0.9688\n",
            "Epoch 40/100\n",
            "7/7 [==============================] - 5s 661ms/step - loss: 0.2085 - accuracy: 0.9662 - val_loss: 0.2332 - val_accuracy: 0.9688\n",
            "Epoch 41/100\n",
            "7/7 [==============================] - 5s 664ms/step - loss: 0.2090 - accuracy: 0.9855 - val_loss: 0.1895 - val_accuracy: 1.0000\n",
            "Epoch 42/100\n",
            "7/7 [==============================] - 5s 714ms/step - loss: 0.1687 - accuracy: 0.9955 - val_loss: 0.1718 - val_accuracy: 1.0000\n",
            "Epoch 43/100\n",
            "7/7 [==============================] - 5s 691ms/step - loss: 0.1916 - accuracy: 0.9911 - val_loss: 0.1878 - val_accuracy: 0.9844\n",
            "Epoch 44/100\n",
            "7/7 [==============================] - 5s 696ms/step - loss: 0.2284 - accuracy: 0.9777 - val_loss: 0.1725 - val_accuracy: 0.9844\n",
            "Epoch 45/100\n",
            "7/7 [==============================] - 5s 714ms/step - loss: 0.1959 - accuracy: 0.9821 - val_loss: 0.2203 - val_accuracy: 0.9844\n",
            "Epoch 46/100\n",
            "7/7 [==============================] - 5s 690ms/step - loss: 0.2045 - accuracy: 0.9821 - val_loss: 0.2070 - val_accuracy: 0.9844\n",
            "Epoch 47/100\n",
            "7/7 [==============================] - 5s 717ms/step - loss: 0.1800 - accuracy: 0.9777 - val_loss: 0.1769 - val_accuracy: 0.9844\n",
            "Epoch 48/100\n",
            "7/7 [==============================] - 5s 715ms/step - loss: 0.1470 - accuracy: 0.9955 - val_loss: 0.2001 - val_accuracy: 0.9844\n",
            "Epoch 49/100\n",
            "7/7 [==============================] - 5s 716ms/step - loss: 0.1519 - accuracy: 1.0000 - val_loss: 0.1923 - val_accuracy: 0.9844\n",
            "Epoch 50/100\n",
            "7/7 [==============================] - 5s 713ms/step - loss: 0.1742 - accuracy: 0.9777 - val_loss: 0.1854 - val_accuracy: 0.9844\n",
            "Epoch 51/100\n",
            "7/7 [==============================] - 5s 664ms/step - loss: 0.1457 - accuracy: 0.9952 - val_loss: 0.1665 - val_accuracy: 0.9844\n",
            "Epoch 52/100\n",
            "7/7 [==============================] - 5s 714ms/step - loss: 0.1481 - accuracy: 0.9955 - val_loss: 0.1557 - val_accuracy: 1.0000\n",
            "Epoch 53/100\n",
            "7/7 [==============================] - 5s 693ms/step - loss: 0.1456 - accuracy: 0.9821 - val_loss: 0.1064 - val_accuracy: 1.0000\n",
            "Epoch 54/100\n",
            "7/7 [==============================] - 5s 715ms/step - loss: 0.1570 - accuracy: 0.9955 - val_loss: 0.1589 - val_accuracy: 1.0000\n",
            "Epoch 55/100\n",
            "7/7 [==============================] - 5s 714ms/step - loss: 0.1194 - accuracy: 0.9911 - val_loss: 0.1306 - val_accuracy: 1.0000\n",
            "Epoch 56/100\n",
            "7/7 [==============================] - 5s 661ms/step - loss: 0.1225 - accuracy: 0.9952 - val_loss: 0.1211 - val_accuracy: 1.0000\n",
            "Epoch 57/100\n",
            "7/7 [==============================] - 5s 663ms/step - loss: 0.1299 - accuracy: 0.9903 - val_loss: 0.1100 - val_accuracy: 0.9844\n",
            "Epoch 58/100\n",
            "7/7 [==============================] - 5s 713ms/step - loss: 0.1214 - accuracy: 1.0000 - val_loss: 0.1328 - val_accuracy: 1.0000\n",
            "Epoch 59/100\n",
            "7/7 [==============================] - 5s 714ms/step - loss: 0.1158 - accuracy: 0.9955 - val_loss: 0.1027 - val_accuracy: 1.0000\n",
            "Epoch 60/100\n",
            "7/7 [==============================] - 5s 715ms/step - loss: 0.1001 - accuracy: 0.9955 - val_loss: 0.1094 - val_accuracy: 1.0000\n",
            "Epoch 61/100\n",
            "7/7 [==============================] - 5s 715ms/step - loss: 0.1068 - accuracy: 1.0000 - val_loss: 0.1144 - val_accuracy: 1.0000\n",
            "Epoch 62/100\n",
            "7/7 [==============================] - 5s 664ms/step - loss: 0.0941 - accuracy: 1.0000 - val_loss: 0.1037 - val_accuracy: 1.0000\n",
            "Epoch 63/100\n",
            "7/7 [==============================] - 5s 691ms/step - loss: 0.1243 - accuracy: 0.9955 - val_loss: 0.1279 - val_accuracy: 1.0000\n",
            "Epoch 64/100\n",
            "7/7 [==============================] - 5s 665ms/step - loss: 0.0935 - accuracy: 1.0000 - val_loss: 0.0788 - val_accuracy: 1.0000\n",
            "Epoch 65/100\n",
            "7/7 [==============================] - 5s 717ms/step - loss: 0.1004 - accuracy: 0.9955 - val_loss: 0.1183 - val_accuracy: 1.0000\n",
            "Epoch 66/100\n",
            "7/7 [==============================] - 5s 694ms/step - loss: 0.0911 - accuracy: 1.0000 - val_loss: 0.1006 - val_accuracy: 1.0000\n",
            "Epoch 67/100\n",
            "7/7 [==============================] - 5s 719ms/step - loss: 0.1005 - accuracy: 1.0000 - val_loss: 0.1015 - val_accuracy: 1.0000\n",
            "Epoch 68/100\n",
            "7/7 [==============================] - 5s 717ms/step - loss: 0.0773 - accuracy: 1.0000 - val_loss: 0.0752 - val_accuracy: 1.0000\n",
            "Epoch 69/100\n",
            "7/7 [==============================] - 5s 716ms/step - loss: 0.1029 - accuracy: 0.9955 - val_loss: 0.1100 - val_accuracy: 1.0000\n",
            "Epoch 70/100\n",
            "7/7 [==============================] - 5s 716ms/step - loss: 0.0757 - accuracy: 1.0000 - val_loss: 0.0861 - val_accuracy: 1.0000\n",
            "Epoch 71/100\n",
            "7/7 [==============================] - 5s 694ms/step - loss: 0.0804 - accuracy: 1.0000 - val_loss: 0.0817 - val_accuracy: 1.0000\n",
            "Epoch 72/100\n",
            "7/7 [==============================] - 5s 713ms/step - loss: 0.0733 - accuracy: 1.0000 - val_loss: 0.1076 - val_accuracy: 1.0000\n",
            "Epoch 73/100\n",
            "7/7 [==============================] - 5s 715ms/step - loss: 0.0704 - accuracy: 1.0000 - val_loss: 0.1155 - val_accuracy: 1.0000\n",
            "Epoch 74/100\n",
            "7/7 [==============================] - 5s 663ms/step - loss: 0.0805 - accuracy: 1.0000 - val_loss: 0.0827 - val_accuracy: 1.0000\n",
            "Epoch 75/100\n",
            "7/7 [==============================] - 5s 714ms/step - loss: 0.0653 - accuracy: 1.0000 - val_loss: 0.0581 - val_accuracy: 1.0000\n",
            "Epoch 76/100\n",
            "7/7 [==============================] - 5s 716ms/step - loss: 0.0824 - accuracy: 1.0000 - val_loss: 0.0704 - val_accuracy: 1.0000\n",
            "Epoch 77/100\n",
            "7/7 [==============================] - 5s 710ms/step - loss: 0.0623 - accuracy: 1.0000 - val_loss: 0.0943 - val_accuracy: 1.0000\n",
            "Epoch 78/100\n",
            "7/7 [==============================] - 5s 690ms/step - loss: 0.0715 - accuracy: 1.0000 - val_loss: 0.0800 - val_accuracy: 1.0000\n",
            "Epoch 79/100\n",
            "7/7 [==============================] - 5s 690ms/step - loss: 0.0568 - accuracy: 1.0000 - val_loss: 0.0491 - val_accuracy: 1.0000\n",
            "Epoch 80/100\n",
            "7/7 [==============================] - 5s 639ms/step - loss: 0.0652 - accuracy: 1.0000 - val_loss: 0.0469 - val_accuracy: 1.0000\n",
            "Epoch 81/100\n",
            "7/7 [==============================] - 5s 667ms/step - loss: 0.0620 - accuracy: 1.0000 - val_loss: 0.1039 - val_accuracy: 1.0000\n",
            "Epoch 82/100\n",
            "7/7 [==============================] - 5s 716ms/step - loss: 0.0599 - accuracy: 1.0000 - val_loss: 0.0464 - val_accuracy: 1.0000\n",
            "Epoch 83/100\n",
            "7/7 [==============================] - 4s 690ms/step - loss: 0.0546 - accuracy: 0.9952 - val_loss: 0.0539 - val_accuracy: 1.0000\n",
            "Epoch 84/100\n",
            "7/7 [==============================] - 5s 715ms/step - loss: 0.0651 - accuracy: 1.0000 - val_loss: 0.0778 - val_accuracy: 1.0000\n",
            "Epoch 85/100\n",
            "7/7 [==============================] - 5s 716ms/step - loss: 0.0505 - accuracy: 1.0000 - val_loss: 0.0888 - val_accuracy: 1.0000\n",
            "Epoch 86/100\n",
            "7/7 [==============================] - 5s 691ms/step - loss: 0.0513 - accuracy: 1.0000 - val_loss: 0.0718 - val_accuracy: 1.0000\n",
            "Epoch 87/100\n",
            "7/7 [==============================] - 5s 692ms/step - loss: 0.0642 - accuracy: 1.0000 - val_loss: 0.0577 - val_accuracy: 1.0000\n",
            "Epoch 88/100\n",
            "7/7 [==============================] - 5s 714ms/step - loss: 0.0509 - accuracy: 1.0000 - val_loss: 0.0697 - val_accuracy: 1.0000\n",
            "Epoch 89/100\n",
            "7/7 [==============================] - 5s 714ms/step - loss: 0.0586 - accuracy: 1.0000 - val_loss: 0.0484 - val_accuracy: 1.0000\n",
            "Epoch 90/100\n",
            "7/7 [==============================] - 5s 639ms/step - loss: 0.0569 - accuracy: 1.0000 - val_loss: 0.0638 - val_accuracy: 1.0000\n",
            "Epoch 91/100\n",
            "7/7 [==============================] - 5s 730ms/step - loss: 0.0485 - accuracy: 1.0000 - val_loss: 0.0703 - val_accuracy: 1.0000\n",
            "Epoch 92/100\n",
            "7/7 [==============================] - 5s 681ms/step - loss: 0.0466 - accuracy: 1.0000 - val_loss: 0.0457 - val_accuracy: 1.0000\n",
            "Epoch 93/100\n",
            "7/7 [==============================] - 5s 711ms/step - loss: 0.0468 - accuracy: 1.0000 - val_loss: 0.0574 - val_accuracy: 1.0000\n",
            "Epoch 94/100\n",
            "7/7 [==============================] - 5s 714ms/step - loss: 0.0435 - accuracy: 1.0000 - val_loss: 0.0574 - val_accuracy: 1.0000\n",
            "Epoch 95/100\n",
            "7/7 [==============================] - 5s 664ms/step - loss: 0.0478 - accuracy: 1.0000 - val_loss: 0.0608 - val_accuracy: 1.0000\n",
            "Epoch 96/100\n",
            "7/7 [==============================] - 5s 722ms/step - loss: 0.0452 - accuracy: 1.0000 - val_loss: 0.0556 - val_accuracy: 1.0000\n",
            "Epoch 97/100\n",
            "7/7 [==============================] - 5s 734ms/step - loss: 0.0485 - accuracy: 1.0000 - val_loss: 0.0424 - val_accuracy: 1.0000\n",
            "Epoch 98/100\n",
            "7/7 [==============================] - 5s 684ms/step - loss: 0.0400 - accuracy: 1.0000 - val_loss: 0.0347 - val_accuracy: 1.0000\n",
            "Epoch 99/100\n",
            "7/7 [==============================] - 5s 713ms/step - loss: 0.0391 - accuracy: 1.0000 - val_loss: 0.0490 - val_accuracy: 1.0000\n",
            "Epoch 100/100\n",
            "7/7 [==============================] - 5s 637ms/step - loss: 0.0386 - accuracy: 1.0000 - val_loss: 0.0468 - val_accuracy: 1.0000\n"
          ]
        }
      ]
    },
    {
      "cell_type": "markdown",
      "source": [
        "**SAVE THE MODEL**"
      ],
      "metadata": {
        "id": "3yfCpf3yPi7J"
      }
    },
    {
      "cell_type": "code",
      "source": [
        "model.save('vgg-16-nail-disease.h5')"
      ],
      "metadata": {
        "id": "QtsNChbDh-Cf"
      },
      "execution_count": 22,
      "outputs": []
    },
    {
      "cell_type": "markdown",
      "source": [
        "**TEST THE MODEL**"
      ],
      "metadata": {
        "id": "Gkp2RESiP1XX"
      }
    },
    {
      "cell_type": "code",
      "source": [
        "from tensorflow.keras.models import load_model\n"
      ],
      "metadata": {
        "id": "oYxG1nZtg2QI"
      },
      "execution_count": 23,
      "outputs": []
    },
    {
      "cell_type": "code",
      "source": [
        "from tensorflow.keras.preprocessing import image\n",
        "from tensorflow.keras.applications.inception_v3 import preprocess_input\n",
        "import numpy as np"
      ],
      "metadata": {
        "id": "oXn5HfQxsjcQ"
      },
      "execution_count": 24,
      "outputs": []
    },
    {
      "cell_type": "code",
      "source": [
        "model=load_model('vgg-16-nail-disease.h5')"
      ],
      "metadata": {
        "id": "xHgvMpvjuPWu"
      },
      "execution_count": 25,
      "outputs": []
    },
    {
      "cell_type": "code",
      "source": [
        "img=image.load_img(r'/content/drive/MyDrive/detection/Dataset/test/Darier_s disease/1.PNG',target_size=(224,224))"
      ],
      "metadata": {
        "id": "1rK-IWRnOY7B"
      },
      "execution_count": 26,
      "outputs": []
    },
    {
      "cell_type": "code",
      "source": [
        "img = image.img_to_array(img)"
      ],
      "metadata": {
        "id": "1sJdoAn5SNf8"
      },
      "execution_count": 27,
      "outputs": []
    },
    {
      "cell_type": "code",
      "source": [
        "img = img.reshape((1, img.shape[0], img.shape[1], img.shape[2]))"
      ],
      "metadata": {
        "id": "IdUwT4T2rY5E"
      },
      "execution_count": 28,
      "outputs": []
    },
    {
      "cell_type": "code",
      "source": [
        "img = preprocess_input(img)"
      ],
      "metadata": {
        "id": "o4GFFrebr4FZ"
      },
      "execution_count": 29,
      "outputs": []
    },
    {
      "cell_type": "code",
      "source": [
        "pred = model.predict(img)"
      ],
      "metadata": {
        "id": "HCJmjbR2sT9h",
        "colab": {
          "base_uri": "https://localhost:8080/"
        },
        "outputId": "2e57b817-88b2-434e-f81d-f6a73472124b"
      },
      "execution_count": 30,
      "outputs": [
        {
          "output_type": "stream",
          "name": "stdout",
          "text": [
            "1/1 [==============================] - 1s 847ms/step\n"
          ]
        }
      ]
    },
    {
      "cell_type": "code",
      "source": [
        "output=np.argmax(model.predict(img), axis=1)"
      ],
      "metadata": {
        "id": "zS90Z3rnsYu9",
        "colab": {
          "base_uri": "https://localhost:8080/"
        },
        "outputId": "d9a27899-f61c-4112-8ea4-508068b076fb"
      },
      "execution_count": 31,
      "outputs": [
        {
          "output_type": "stream",
          "name": "stdout",
          "text": [
            "1/1 [==============================] - 0s 36ms/step\n"
          ]
        }
      ]
    },
    {
      "cell_type": "code",
      "source": [
        "index=['Darier_s disease', 'Muehrck-e_s lines', 'aloperia areata', 'beau_s lines', 'bluish nail',\n",
        "        'clubbing','eczema','half and half nailes(Lindsay_s nails)','koilonychia','leukonychia',\n",
        "        'onycholycis','pale nail','red lunula','splinter hemmorrage','terry_s nail','white nail','yellow nails']\n",
        "        \n",
        "        "
      ],
      "metadata": {
        "id": "LV8VII0vtHPy"
      },
      "execution_count": 32,
      "outputs": []
    },
    {
      "cell_type": "code",
      "source": [
        "result = str(index[output[0]])"
      ],
      "metadata": {
        "id": "sOHm1YqtvM9f"
      },
      "execution_count": 33,
      "outputs": []
    },
    {
      "cell_type": "code",
      "source": [
        "result"
      ],
      "metadata": {
        "colab": {
          "base_uri": "https://localhost:8080/",
          "height": 36
        },
        "id": "er4-F1OzvuNR",
        "outputId": "cf166bd7-c90a-4c81-f931-243de4b199db"
      },
      "execution_count": 34,
      "outputs": [
        {
          "output_type": "execute_result",
          "data": {
            "text/plain": [
              "'Darier_s disease'"
            ],
            "application/vnd.google.colaboratory.intrinsic+json": {
              "type": "string"
            }
          },
          "metadata": {},
          "execution_count": 34
        }
      ]
    },
    {
      "cell_type": "code",
      "source": [],
      "metadata": {
        "id": "iDU9zyWHvvmV"
      },
      "execution_count": null,
      "outputs": []
    }
  ]
}